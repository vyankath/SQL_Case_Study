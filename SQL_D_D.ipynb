{
  "nbformat": 4,
  "nbformat_minor": 0,
  "metadata": {
    "colab": {
      "provenance": []
    },
    "kernelspec": {
      "name": "python3",
      "display_name": "Python 3"
    },
    "language_info": {
      "name": "python"
    }
  },
  "cells": [
    {
      "cell_type": "code",
      "execution_count": null,
      "metadata": {
        "colab": {
          "base_uri": "https://localhost:8080/"
        },
        "id": "H8mpD8_SAZEY",
        "outputId": "28f23150-da2f-4c7e-a103-8f0d0b2085fc"
      },
      "outputs": [
        {
          "output_type": "stream",
          "name": "stdout",
          "text": [
            "The sql extension is already loaded. To reload it, use:\n",
            "  %reload_ext sql\n"
          ]
        }
      ],
      "source": [
        "!pip install -q ipython-sql\n",
        "%load_ext sql\n",
        "%sql sqlite://"
      ]
    },
    {
      "cell_type": "code",
      "source": [
        "%%sql CREATE TABLE sales (\n",
        "  \"customer_id\" VARCHAR(1),\n",
        "  \"order_date\" DATE,\n",
        "  \"product_id\" INTEGER\n",
        ");\n",
        "\n",
        "INSERT INTO sales\n",
        "  (\"customer_id\", \"order_date\", \"product_id\")\n",
        "VALUES\n",
        "  ('A', '2021-01-01', '1'),\n",
        "  ('A', '2021-01-01', '2'),\n",
        "  ('A', '2021-01-07', '2'),\n",
        "  ('A', '2021-01-10', '3'),\n",
        "  ('A', '2021-01-11', '3'),\n",
        "  ('A', '2021-01-11', '3'),\n",
        "  ('B', '2021-01-01', '2'),\n",
        "  ('B', '2021-01-02', '2'),\n",
        "  ('B', '2021-01-04', '1'),\n",
        "  ('B', '2021-01-11', '1'),\n",
        "  ('B', '2021-01-16', '3'),\n",
        "  ('B', '2021-02-01', '3'),\n",
        "  ('C', '2021-01-01', '3'),\n",
        "  ('C', '2021-01-01', '3'),\n",
        "  ('C', '2021-01-07', '3');\n",
        "\n",
        "\n",
        "CREATE TABLE menu (\n",
        "  \"product_id\" INTEGER,\n",
        "  \"product_name\" VARCHAR(5),\n",
        "  \"price\" INTEGER\n",
        ");\n",
        "\n",
        "INSERT INTO menu\n",
        "  (\"product_id\", \"product_name\", \"price\")\n",
        "VALUES\n",
        "  ('1', 'sushi', '10'),\n",
        "  ('2', 'curry', '15'),\n",
        "  ('3', 'ramen', '12');\n",
        "\n",
        "\n",
        "CREATE TABLE members (\n",
        "  \"customer_id\" VARCHAR(1),\n",
        "  \"join_date\" DATE\n",
        ");\n",
        "\n",
        "INSERT INTO members\n",
        "  (\"customer_id\", \"join_date\")\n",
        "VALUES\n",
        "  ('A', '2021-01-07'),\n",
        "  ('B', '2021-01-09');"
      ],
      "metadata": {
        "colab": {
          "base_uri": "https://localhost:8080/"
        },
        "id": "RXwHxhpvAfo0",
        "outputId": "ea983696-56a8-452d-c14c-0bf0527c7bf6"
      },
      "execution_count": null,
      "outputs": [
        {
          "output_type": "stream",
          "name": "stdout",
          "text": [
            " * sqlite://\n",
            "(sqlite3.OperationalError) table sales already exists\n",
            "[SQL: CREATE TABLE sales (\n",
            "  \"customer_id\" VARCHAR(1),\n",
            "  \"order_date\" DATE,\n",
            "  \"product_id\" INTEGER\n",
            ");]\n",
            "(Background on this error at: https://sqlalche.me/e/20/e3q8)\n"
          ]
        }
      ]
    },
    {
      "cell_type": "markdown",
      "source": [
        "**Case Study Questions**\n",
        "\n",
        "* 1. What is the total amount each customer spent at the restaurant?\n",
        "* 2. How many days has each customer visited the restaurant?\n",
        "* 3. What was the first item from the menu purchased by each customer?\n",
        "* 4. What is the most purchased item on the menu and how many times was it purchased by all customers?\n",
        "* 5. Which item was the most popular for each customer?\n",
        "* 6. Which item was purchased first by the customer after they became a member?\n",
        "* 7. Which item was purchased just before the customer became a member?\n",
        "* 8. What is the total items and amount spent for each member before they became a member?\n",
        "* 9.  If each $1 spent equates to 10 points and sushi has a 2x points multiplier - how many points would each customer have?\n",
        "* 10. In the first week after a customer joins the program (including their join date) they earn 2x points on all items, not just sushi - how many points do customer A and B have at the end of January?\n"
      ],
      "metadata": {
        "id": "Q7-eG_LqBAus"
      }
    },
    {
      "cell_type": "code",
      "source": [
        "%%sql\n",
        "SELECT * FROM sales"
      ],
      "metadata": {
        "colab": {
          "base_uri": "https://localhost:8080/",
          "height": 394
        },
        "id": "4y7k-9VzAuoy",
        "outputId": "7c1dc831-60ae-4c7e-df02-2a1367e50486"
      },
      "execution_count": null,
      "outputs": [
        {
          "output_type": "stream",
          "name": "stdout",
          "text": [
            " * sqlite://\n",
            "Done.\n"
          ]
        },
        {
          "output_type": "execute_result",
          "data": {
            "text/plain": [
              "[('A', '2021-01-01', 1),\n",
              " ('A', '2021-01-01', 2),\n",
              " ('A', '2021-01-07', 2),\n",
              " ('A', '2021-01-10', 3),\n",
              " ('A', '2021-01-11', 3),\n",
              " ('A', '2021-01-11', 3),\n",
              " ('B', '2021-01-01', 2),\n",
              " ('B', '2021-01-02', 2),\n",
              " ('B', '2021-01-04', 1),\n",
              " ('B', '2021-01-11', 1),\n",
              " ('B', '2021-01-16', 3),\n",
              " ('B', '2021-02-01', 3),\n",
              " ('C', '2021-01-01', 3),\n",
              " ('C', '2021-01-01', 3),\n",
              " ('C', '2021-01-07', 3)]"
            ],
            "text/html": [
              "<table>\n",
              "    <thead>\n",
              "        <tr>\n",
              "            <th>customer_id</th>\n",
              "            <th>order_date</th>\n",
              "            <th>product_id</th>\n",
              "        </tr>\n",
              "    </thead>\n",
              "    <tbody>\n",
              "        <tr>\n",
              "            <td>A</td>\n",
              "            <td>2021-01-01</td>\n",
              "            <td>1</td>\n",
              "        </tr>\n",
              "        <tr>\n",
              "            <td>A</td>\n",
              "            <td>2021-01-01</td>\n",
              "            <td>2</td>\n",
              "        </tr>\n",
              "        <tr>\n",
              "            <td>A</td>\n",
              "            <td>2021-01-07</td>\n",
              "            <td>2</td>\n",
              "        </tr>\n",
              "        <tr>\n",
              "            <td>A</td>\n",
              "            <td>2021-01-10</td>\n",
              "            <td>3</td>\n",
              "        </tr>\n",
              "        <tr>\n",
              "            <td>A</td>\n",
              "            <td>2021-01-11</td>\n",
              "            <td>3</td>\n",
              "        </tr>\n",
              "        <tr>\n",
              "            <td>A</td>\n",
              "            <td>2021-01-11</td>\n",
              "            <td>3</td>\n",
              "        </tr>\n",
              "        <tr>\n",
              "            <td>B</td>\n",
              "            <td>2021-01-01</td>\n",
              "            <td>2</td>\n",
              "        </tr>\n",
              "        <tr>\n",
              "            <td>B</td>\n",
              "            <td>2021-01-02</td>\n",
              "            <td>2</td>\n",
              "        </tr>\n",
              "        <tr>\n",
              "            <td>B</td>\n",
              "            <td>2021-01-04</td>\n",
              "            <td>1</td>\n",
              "        </tr>\n",
              "        <tr>\n",
              "            <td>B</td>\n",
              "            <td>2021-01-11</td>\n",
              "            <td>1</td>\n",
              "        </tr>\n",
              "        <tr>\n",
              "            <td>B</td>\n",
              "            <td>2021-01-16</td>\n",
              "            <td>3</td>\n",
              "        </tr>\n",
              "        <tr>\n",
              "            <td>B</td>\n",
              "            <td>2021-02-01</td>\n",
              "            <td>3</td>\n",
              "        </tr>\n",
              "        <tr>\n",
              "            <td>C</td>\n",
              "            <td>2021-01-01</td>\n",
              "            <td>3</td>\n",
              "        </tr>\n",
              "        <tr>\n",
              "            <td>C</td>\n",
              "            <td>2021-01-01</td>\n",
              "            <td>3</td>\n",
              "        </tr>\n",
              "        <tr>\n",
              "            <td>C</td>\n",
              "            <td>2021-01-07</td>\n",
              "            <td>3</td>\n",
              "        </tr>\n",
              "    </tbody>\n",
              "</table>"
            ]
          },
          "metadata": {},
          "execution_count": 20
        }
      ]
    },
    {
      "cell_type": "code",
      "source": [
        "%%sql\n",
        "SELECT * FROM menu"
      ],
      "metadata": {
        "colab": {
          "base_uri": "https://localhost:8080/",
          "height": 140
        },
        "id": "dHoU7eAWBhVq",
        "outputId": "85a22393-ed66-40a6-e551-5741d875fd67"
      },
      "execution_count": null,
      "outputs": [
        {
          "output_type": "stream",
          "name": "stdout",
          "text": [
            " * sqlite://\n",
            "Done.\n"
          ]
        },
        {
          "output_type": "execute_result",
          "data": {
            "text/plain": [
              "[(1, 'sushi', 10), (2, 'curry', 15), (3, 'ramen', 12)]"
            ],
            "text/html": [
              "<table>\n",
              "    <thead>\n",
              "        <tr>\n",
              "            <th>product_id</th>\n",
              "            <th>product_name</th>\n",
              "            <th>price</th>\n",
              "        </tr>\n",
              "    </thead>\n",
              "    <tbody>\n",
              "        <tr>\n",
              "            <td>1</td>\n",
              "            <td>sushi</td>\n",
              "            <td>10</td>\n",
              "        </tr>\n",
              "        <tr>\n",
              "            <td>2</td>\n",
              "            <td>curry</td>\n",
              "            <td>15</td>\n",
              "        </tr>\n",
              "        <tr>\n",
              "            <td>3</td>\n",
              "            <td>ramen</td>\n",
              "            <td>12</td>\n",
              "        </tr>\n",
              "    </tbody>\n",
              "</table>"
            ]
          },
          "metadata": {},
          "execution_count": 21
        }
      ]
    },
    {
      "cell_type": "code",
      "source": [
        "%%sql\n",
        "SELECT * FROM members"
      ],
      "metadata": {
        "colab": {
          "base_uri": "https://localhost:8080/",
          "height": 119
        },
        "id": "iNinNAO1BhZh",
        "outputId": "51f91b10-831c-4b6b-f8e3-61be9c2505fa"
      },
      "execution_count": null,
      "outputs": [
        {
          "output_type": "stream",
          "name": "stdout",
          "text": [
            " * sqlite://\n",
            "Done.\n"
          ]
        },
        {
          "output_type": "execute_result",
          "data": {
            "text/plain": [
              "[('A', '2021-01-07'), ('B', '2021-01-09')]"
            ],
            "text/html": [
              "<table>\n",
              "    <thead>\n",
              "        <tr>\n",
              "            <th>customer_id</th>\n",
              "            <th>join_date</th>\n",
              "        </tr>\n",
              "    </thead>\n",
              "    <tbody>\n",
              "        <tr>\n",
              "            <td>A</td>\n",
              "            <td>2021-01-07</td>\n",
              "        </tr>\n",
              "        <tr>\n",
              "            <td>B</td>\n",
              "            <td>2021-01-09</td>\n",
              "        </tr>\n",
              "    </tbody>\n",
              "</table>"
            ]
          },
          "metadata": {},
          "execution_count": 22
        }
      ]
    },
    {
      "cell_type": "markdown",
      "source": [
        "## **Total Amount Spent by Each Customer:**\n",
        "\n",
        "Calculated the total amount spent by each customer by joining the Sales table with the Menu table on the product_id column and grouping the results by customer ID while summing up the prices of purchased items."
      ],
      "metadata": {
        "id": "x9IyMF9xBv2C"
      }
    },
    {
      "cell_type": "code",
      "source": [
        "%%sql\n",
        "SELECT s.customer_id, sum(price) AS total_amount_spent FROM menu m\n",
        "JOIN sales s ON m.product_id = s.product_id\n",
        "GROUP BY s.customer_id"
      ],
      "metadata": {
        "colab": {
          "base_uri": "https://localhost:8080/",
          "height": 140
        },
        "id": "3iP5iil7DVTb",
        "outputId": "b33b3c1f-a16a-4718-ad62-35559692b878"
      },
      "execution_count": null,
      "outputs": [
        {
          "output_type": "stream",
          "name": "stdout",
          "text": [
            " * sqlite://\n",
            "Done.\n"
          ]
        },
        {
          "output_type": "execute_result",
          "data": {
            "text/plain": [
              "[('A', 76), ('B', 74), ('C', 36)]"
            ],
            "text/html": [
              "<table>\n",
              "    <thead>\n",
              "        <tr>\n",
              "            <th>customer_id</th>\n",
              "            <th>total_amount_spent</th>\n",
              "        </tr>\n",
              "    </thead>\n",
              "    <tbody>\n",
              "        <tr>\n",
              "            <td>A</td>\n",
              "            <td>76</td>\n",
              "        </tr>\n",
              "        <tr>\n",
              "            <td>B</td>\n",
              "            <td>74</td>\n",
              "        </tr>\n",
              "        <tr>\n",
              "            <td>C</td>\n",
              "            <td>36</td>\n",
              "        </tr>\n",
              "    </tbody>\n",
              "</table>"
            ]
          },
          "metadata": {},
          "execution_count": 23
        }
      ]
    },
    {
      "cell_type": "markdown",
      "source": [
        "## **Number of Days Visited by Each Customer:**\n",
        "\n",
        "Determined the number of distinct days each customer visited the restaurant by selecting the customer ID and counting the distinct order dates from the Sales table, grouping the results by customer ID."
      ],
      "metadata": {
        "id": "lCfZ7QxgEbpC"
      }
    },
    {
      "cell_type": "code",
      "source": [
        "%%sql\n",
        "SELECT customer_id, COUNT(DISTINCT order_date) AS days_visited FROM sales\n",
        "GROUP BY customer_id"
      ],
      "metadata": {
        "colab": {
          "base_uri": "https://localhost:8080/",
          "height": 140
        },
        "id": "yruD7Fx9EQk0",
        "outputId": "ecf9c655-7feb-47e5-ffcf-6fd7889a04aa"
      },
      "execution_count": null,
      "outputs": [
        {
          "output_type": "stream",
          "name": "stdout",
          "text": [
            " * sqlite://\n",
            "Done.\n"
          ]
        },
        {
          "output_type": "execute_result",
          "data": {
            "text/plain": [
              "[('A', 4), ('B', 6), ('C', 2)]"
            ],
            "text/html": [
              "<table>\n",
              "    <thead>\n",
              "        <tr>\n",
              "            <th>customer_id</th>\n",
              "            <th>days_visited</th>\n",
              "        </tr>\n",
              "    </thead>\n",
              "    <tbody>\n",
              "        <tr>\n",
              "            <td>A</td>\n",
              "            <td>4</td>\n",
              "        </tr>\n",
              "        <tr>\n",
              "            <td>B</td>\n",
              "            <td>6</td>\n",
              "        </tr>\n",
              "        <tr>\n",
              "            <td>C</td>\n",
              "            <td>2</td>\n",
              "        </tr>\n",
              "    </tbody>\n",
              "</table>"
            ]
          },
          "metadata": {},
          "execution_count": 24
        }
      ]
    },
    {
      "cell_type": "markdown",
      "source": [
        "## **First Item Purchased by Each Customer:**\n",
        "\n",
        "Identified the first item purchased by each customer by joining the Sales table with the Menu table on the product_id column, grouping the results by customer ID, and selecting the product name of the first item purchased."
      ],
      "metadata": {
        "id": "d6OYdRp4FGoW"
      }
    },
    {
      "cell_type": "code",
      "source": [
        "%%sql\n",
        "SELECT s.customer_id, m.product_name FROM sales s\n",
        "JOIN menu m ON m.product_id = s.product_id\n",
        "GROUP BY customer_id;"
      ],
      "metadata": {
        "colab": {
          "base_uri": "https://localhost:8080/",
          "height": 140
        },
        "id": "leXkcwWzE1HJ",
        "outputId": "7be2f455-63f9-49b9-e248-97575f476823"
      },
      "execution_count": null,
      "outputs": [
        {
          "output_type": "stream",
          "name": "stdout",
          "text": [
            " * sqlite://\n",
            "Done.\n"
          ]
        },
        {
          "output_type": "execute_result",
          "data": {
            "text/plain": [
              "[('A', 'sushi'), ('B', 'curry'), ('C', 'ramen')]"
            ],
            "text/html": [
              "<table>\n",
              "    <thead>\n",
              "        <tr>\n",
              "            <th>customer_id</th>\n",
              "            <th>product_name</th>\n",
              "        </tr>\n",
              "    </thead>\n",
              "    <tbody>\n",
              "        <tr>\n",
              "            <td>A</td>\n",
              "            <td>sushi</td>\n",
              "        </tr>\n",
              "        <tr>\n",
              "            <td>B</td>\n",
              "            <td>curry</td>\n",
              "        </tr>\n",
              "        <tr>\n",
              "            <td>C</td>\n",
              "            <td>ramen</td>\n",
              "        </tr>\n",
              "    </tbody>\n",
              "</table>"
            ]
          },
          "metadata": {},
          "execution_count": 27
        }
      ]
    },
    {
      "cell_type": "markdown",
      "source": [
        "## **Most Purchased Item on the Menu:**\n",
        "\n",
        "Identified the most purchased item on the menu by joining the Sales table with the Menu table on the product_id column, grouping the results by product name, and ordering the results by purchase count in descending order, then limiting to the top item."
      ],
      "metadata": {
        "id": "DHg4D8eWJCxf"
      }
    },
    {
      "cell_type": "code",
      "source": [
        "%%sql\n",
        "SELECT m.product_name, count(m.product_name) most_purch FROM sales s\n",
        "JOIN menu m ON m.product_id = s.product_id\n",
        "GROUP BY m.product_name\n",
        "ORDER BY most_purch DESC\n",
        "LIMIT 1"
      ],
      "metadata": {
        "colab": {
          "base_uri": "https://localhost:8080/",
          "height": 98
        },
        "id": "ZotUrwEZJECI",
        "outputId": "f692f182-96cd-4acf-b3ef-61b66d7c279d"
      },
      "execution_count": null,
      "outputs": [
        {
          "output_type": "stream",
          "name": "stdout",
          "text": [
            " * sqlite://\n",
            "Done.\n"
          ]
        },
        {
          "output_type": "execute_result",
          "data": {
            "text/plain": [
              "[('ramen', 8)]"
            ],
            "text/html": [
              "<table>\n",
              "    <thead>\n",
              "        <tr>\n",
              "            <th>product_name</th>\n",
              "            <th>most_purch</th>\n",
              "        </tr>\n",
              "    </thead>\n",
              "    <tbody>\n",
              "        <tr>\n",
              "            <td>ramen</td>\n",
              "            <td>8</td>\n",
              "        </tr>\n",
              "    </tbody>\n",
              "</table>"
            ]
          },
          "metadata": {},
          "execution_count": 38
        }
      ]
    },
    {
      "cell_type": "markdown",
      "source": [
        "## **Most Popular Item for Each Customer:**\n",
        "\n",
        "Determined the most popular item for each customer by joining the Sales table with the Menu table on the product_id column, grouping the results by customer ID and product name, and ordering the results by purchase count in descending order."
      ],
      "metadata": {
        "id": "iPMZB-cwKNG1"
      }
    },
    {
      "cell_type": "code",
      "source": [
        "%%sql\n",
        "SELECT s.customer_id,m.product_name, COUNT(m.product_name) AS p_count FROM sales s\n",
        "JOIN menu m ON m.product_id = s.product_id\n",
        "GROUP BY s.customer_id, m.product_name\n",
        "ORDER BY s.customer_id, p_count\n",
        "LIMIT 2,5"
      ],
      "metadata": {
        "colab": {
          "base_uri": "https://localhost:8080/",
          "height": 182
        },
        "id": "dcsxVM3cJbdV",
        "outputId": "cf568c26-7f62-4983-c4ed-22e723064997"
      },
      "execution_count": null,
      "outputs": [
        {
          "output_type": "stream",
          "name": "stdout",
          "text": [
            " * sqlite://\n",
            "Done.\n"
          ]
        },
        {
          "output_type": "execute_result",
          "data": {
            "text/plain": [
              "[('A', 'ramen', 3),\n",
              " ('B', 'curry', 2),\n",
              " ('B', 'ramen', 2),\n",
              " ('B', 'sushi', 2),\n",
              " ('C', 'ramen', 3)]"
            ],
            "text/html": [
              "<table>\n",
              "    <thead>\n",
              "        <tr>\n",
              "            <th>customer_id</th>\n",
              "            <th>product_name</th>\n",
              "            <th>p_count</th>\n",
              "        </tr>\n",
              "    </thead>\n",
              "    <tbody>\n",
              "        <tr>\n",
              "            <td>A</td>\n",
              "            <td>ramen</td>\n",
              "            <td>3</td>\n",
              "        </tr>\n",
              "        <tr>\n",
              "            <td>B</td>\n",
              "            <td>curry</td>\n",
              "            <td>2</td>\n",
              "        </tr>\n",
              "        <tr>\n",
              "            <td>B</td>\n",
              "            <td>ramen</td>\n",
              "            <td>2</td>\n",
              "        </tr>\n",
              "        <tr>\n",
              "            <td>B</td>\n",
              "            <td>sushi</td>\n",
              "            <td>2</td>\n",
              "        </tr>\n",
              "        <tr>\n",
              "            <td>C</td>\n",
              "            <td>ramen</td>\n",
              "            <td>3</td>\n",
              "        </tr>\n",
              "    </tbody>\n",
              "</table>"
            ]
          },
          "metadata": {},
          "execution_count": 88
        }
      ]
    },
    {
      "cell_type": "markdown",
      "source": [
        "## **First Item Purchased After Becoming a Member:**\n",
        "\n",
        "Identified the first item purchased by each customer after they became a member by joining the Sales table with the Menu table on the product_id column, filtering for purchases after the join date of the member, and grouping the results by customer ID."
      ],
      "metadata": {
        "id": "gCzv2CxoakJi"
      }
    },
    {
      "cell_type": "code",
      "source": [
        "%%sql\n",
        "SELECT DISTINCT s.customer_id, m.product_name,s.order_date, m1.join_date FROM sales s\n",
        "JOIN menu m ON s.product_id = m.product_id\n",
        "JOIN members m1 ON s.customer_id = m1.customer_id\n",
        "WHERE s.order_date >= m1.join_date\n",
        "GROUP BY m1.customer_id\n",
        "ORDER BY s.order_date"
      ],
      "metadata": {
        "colab": {
          "base_uri": "https://localhost:8080/",
          "height": 119
        },
        "id": "x1BBRg5lQDHs",
        "outputId": "5f9ae3cf-6913-4fe2-c3ba-d68172b64aac"
      },
      "execution_count": null,
      "outputs": [
        {
          "output_type": "stream",
          "name": "stdout",
          "text": [
            " * sqlite://\n",
            "Done.\n"
          ]
        },
        {
          "output_type": "execute_result",
          "data": {
            "text/plain": [
              "[('A', 'curry', '2021-01-07', '2021-01-07'),\n",
              " ('B', 'sushi', '2021-01-11', '2021-01-09')]"
            ],
            "text/html": [
              "<table>\n",
              "    <thead>\n",
              "        <tr>\n",
              "            <th>customer_id</th>\n",
              "            <th>product_name</th>\n",
              "            <th>order_date</th>\n",
              "            <th>join_date</th>\n",
              "        </tr>\n",
              "    </thead>\n",
              "    <tbody>\n",
              "        <tr>\n",
              "            <td>A</td>\n",
              "            <td>curry</td>\n",
              "            <td>2021-01-07</td>\n",
              "            <td>2021-01-07</td>\n",
              "        </tr>\n",
              "        <tr>\n",
              "            <td>B</td>\n",
              "            <td>sushi</td>\n",
              "            <td>2021-01-11</td>\n",
              "            <td>2021-01-09</td>\n",
              "        </tr>\n",
              "    </tbody>\n",
              "</table>"
            ]
          },
          "metadata": {},
          "execution_count": 130
        }
      ]
    },
    {
      "cell_type": "code",
      "source": [
        "%%sql\n",
        "SELECT s.customer_id, m.product_name,s.order_date, m1.join_date FROM sales s\n",
        "JOIN menu m ON s.product_id = m.product_id\n",
        "JOIN members m1 ON s.customer_id = m1.customer_id\n",
        "WHERE (s.customer_id == m1.customer_id AND s.order_date > m1.join_date)\n",
        "GROUP BY m1.customer_id\n",
        "ORDER BY s.order_date"
      ],
      "metadata": {
        "colab": {
          "base_uri": "https://localhost:8080/",
          "height": 119
        },
        "id": "Zhn7PeQbdA5k",
        "outputId": "f1fb02d9-99a3-4353-c0f4-f55ec878ee5c"
      },
      "execution_count": null,
      "outputs": [
        {
          "output_type": "stream",
          "name": "stdout",
          "text": [
            " * sqlite://\n",
            "Done.\n"
          ]
        },
        {
          "output_type": "execute_result",
          "data": {
            "text/plain": [
              "[('A', 'ramen', '2021-01-10', '2021-01-07'),\n",
              " ('B', 'sushi', '2021-01-11', '2021-01-09')]"
            ],
            "text/html": [
              "<table>\n",
              "    <thead>\n",
              "        <tr>\n",
              "            <th>customer_id</th>\n",
              "            <th>product_name</th>\n",
              "            <th>order_date</th>\n",
              "            <th>join_date</th>\n",
              "        </tr>\n",
              "    </thead>\n",
              "    <tbody>\n",
              "        <tr>\n",
              "            <td>A</td>\n",
              "            <td>ramen</td>\n",
              "            <td>2021-01-10</td>\n",
              "            <td>2021-01-07</td>\n",
              "        </tr>\n",
              "        <tr>\n",
              "            <td>B</td>\n",
              "            <td>sushi</td>\n",
              "            <td>2021-01-11</td>\n",
              "            <td>2021-01-09</td>\n",
              "        </tr>\n",
              "    </tbody>\n",
              "</table>"
            ]
          },
          "metadata": {},
          "execution_count": 132
        }
      ]
    },
    {
      "cell_type": "markdown",
      "source": [
        "## **Item Purchased Just Before Becoming a Member:**\n",
        "\n",
        "Identified the item purchased just before each customer became a member by joining the Sales table with the Menu table on the product_id column, filtering for purchases before the join date of the member, and grouping the results by customer ID."
      ],
      "metadata": {
        "id": "EqgENwEehCzn"
      }
    },
    {
      "cell_type": "code",
      "source": [
        "%%sql\n",
        "SELECT s.customer_id, m.product_name,s.order_date, m1.join_date FROM sales s\n",
        "JOIN menu m ON s.product_id = m.product_id\n",
        "JOIN members m1 ON s.customer_id = m1.customer_id\n",
        "WHERE (s.order_date < m1.join_date)\n",
        "GROUP BY m1.customer_id\n",
        "ORDER BY s.order_date"
      ],
      "metadata": {
        "colab": {
          "base_uri": "https://localhost:8080/",
          "height": 119
        },
        "id": "u-we3pPnfQ0I",
        "outputId": "af4d1a88-50e4-4eb5-f0ed-5fbadf2fc0e0"
      },
      "execution_count": null,
      "outputs": [
        {
          "output_type": "stream",
          "name": "stdout",
          "text": [
            " * sqlite://\n",
            "Done.\n"
          ]
        },
        {
          "output_type": "execute_result",
          "data": {
            "text/plain": [
              "[('A', 'sushi', '2021-01-01', '2021-01-07'),\n",
              " ('B', 'curry', '2021-01-01', '2021-01-09')]"
            ],
            "text/html": [
              "<table>\n",
              "    <thead>\n",
              "        <tr>\n",
              "            <th>customer_id</th>\n",
              "            <th>product_name</th>\n",
              "            <th>order_date</th>\n",
              "            <th>join_date</th>\n",
              "        </tr>\n",
              "    </thead>\n",
              "    <tbody>\n",
              "        <tr>\n",
              "            <td>A</td>\n",
              "            <td>sushi</td>\n",
              "            <td>2021-01-01</td>\n",
              "            <td>2021-01-07</td>\n",
              "        </tr>\n",
              "        <tr>\n",
              "            <td>B</td>\n",
              "            <td>curry</td>\n",
              "            <td>2021-01-01</td>\n",
              "            <td>2021-01-09</td>\n",
              "        </tr>\n",
              "    </tbody>\n",
              "</table>"
            ]
          },
          "metadata": {},
          "execution_count": 133
        }
      ]
    },
    {
      "cell_type": "markdown",
      "source": [
        "## **Total Items and Amount Spent Before Becoming a Member:**\n",
        "\n",
        "Calculated the total items and amount spent for each customer before they became a member by joining the Sales table with the Menu table on the product_id column, filtering for purchases before the join date of the member, and grouping the results by customer ID while summing up the prices of purchased items."
      ],
      "metadata": {
        "id": "gUn6D5-di1YN"
      }
    },
    {
      "cell_type": "code",
      "source": [
        "%%sql\n",
        "SELECT s.customer_id, m.product_name,s.order_date, m1.join_date, sum(price) as total_spent FROM sales s\n",
        "JOIN menu m ON s.product_id = m.product_id\n",
        "JOIN members m1 ON s.customer_id = m1.customer_id\n",
        "WHERE (s.order_date < m1.join_date)\n",
        "GROUP BY m1.customer_id\n",
        "ORDER BY s.order_date"
      ],
      "metadata": {
        "colab": {
          "base_uri": "https://localhost:8080/",
          "height": 119
        },
        "id": "11jFHsKPi2z-",
        "outputId": "9a0c8ba1-84ce-4b6a-e36a-83f13c38cef4"
      },
      "execution_count": null,
      "outputs": [
        {
          "output_type": "stream",
          "name": "stdout",
          "text": [
            " * sqlite://\n",
            "Done.\n"
          ]
        },
        {
          "output_type": "execute_result",
          "data": {
            "text/plain": [
              "[('A', 'sushi', '2021-01-01', '2021-01-07', 25),\n",
              " ('B', 'curry', '2021-01-01', '2021-01-09', 40)]"
            ],
            "text/html": [
              "<table>\n",
              "    <thead>\n",
              "        <tr>\n",
              "            <th>customer_id</th>\n",
              "            <th>product_name</th>\n",
              "            <th>order_date</th>\n",
              "            <th>join_date</th>\n",
              "            <th>total_spent</th>\n",
              "        </tr>\n",
              "    </thead>\n",
              "    <tbody>\n",
              "        <tr>\n",
              "            <td>A</td>\n",
              "            <td>sushi</td>\n",
              "            <td>2021-01-01</td>\n",
              "            <td>2021-01-07</td>\n",
              "            <td>25</td>\n",
              "        </tr>\n",
              "        <tr>\n",
              "            <td>B</td>\n",
              "            <td>curry</td>\n",
              "            <td>2021-01-01</td>\n",
              "            <td>2021-01-09</td>\n",
              "            <td>40</td>\n",
              "        </tr>\n",
              "    </tbody>\n",
              "</table>"
            ]
          },
          "metadata": {},
          "execution_count": 129
        }
      ]
    },
    {
      "cell_type": "markdown",
      "source": [
        "## **Points Earned by Each Customer:**\n",
        "\n",
        "Calculated the points earned by each customer based on their purchases, where each $1 spent equates to 10 points and sushi has a 2x points multiplier. Joined the Sales table with the Menu table on the product_id column and applied the points multiplier for sushi purchases."
      ],
      "metadata": {
        "id": "VgmCN4LnkW9T"
      }
    },
    {
      "cell_type": "code",
      "source": [
        "%%sql\n",
        "select customer_id,\n",
        "sum(case\n",
        "    when product_name = 'sushi' then 20 * price\n",
        "    else 10 * price\n",
        "end) total_points\n",
        "from sales s\n",
        "join menu m\n",
        "  on s.product_id = m.product_id\n",
        "group by customer_id;"
      ],
      "metadata": {
        "id": "6WhcEpo8kYc8",
        "colab": {
          "base_uri": "https://localhost:8080/",
          "height": 140
        },
        "outputId": "9fc3ab02-f852-4084-f387-6d468c8be2d3"
      },
      "execution_count": null,
      "outputs": [
        {
          "output_type": "stream",
          "name": "stdout",
          "text": [
            " * sqlite://\n",
            "Done.\n"
          ]
        },
        {
          "output_type": "execute_result",
          "data": {
            "text/plain": [
              "[('A', 860), ('B', 940), ('C', 360)]"
            ],
            "text/html": [
              "<table>\n",
              "    <thead>\n",
              "        <tr>\n",
              "            <th>customer_id</th>\n",
              "            <th>total_points</th>\n",
              "        </tr>\n",
              "    </thead>\n",
              "    <tbody>\n",
              "        <tr>\n",
              "            <td>A</td>\n",
              "            <td>860</td>\n",
              "        </tr>\n",
              "        <tr>\n",
              "            <td>B</td>\n",
              "            <td>940</td>\n",
              "        </tr>\n",
              "        <tr>\n",
              "            <td>C</td>\n",
              "            <td>360</td>\n",
              "        </tr>\n",
              "    </tbody>\n",
              "</table>"
            ]
          },
          "metadata": {},
          "execution_count": 134
        }
      ]
    },
    {
      "cell_type": "markdown",
      "source": [
        "## **Points Earned by Customers After Joining the Program:**\n",
        "\n",
        "Calculated the points earned by customers A and B in the first week after joining the program, where they earn double points on all items. Joined the Sales table with the Menu table on the product_id column and applied the points multiplier for purchases made within the first week after joining the program."
      ],
      "metadata": {
        "id": "bGPixZNok1F4"
      }
    },
    {
      "cell_type": "code",
      "source": [
        "%%sql\n",
        "SELECT customer_id,\n",
        " SUM(CASE\n",
        "  WHEN order_date >= join_date AND order_date < DATE(join_date, '+7 days') THEN 20 * price ELSE 10 * price\n",
        "  END) AS total_points\n",
        "FROM ( SELECT s.customer_id,s.order_date,m.price,mem.join_date FROM sales s\n",
        "  JOIN menu m ON s.product_id = m.product_id\n",
        "  LEFT JOIN members mem ON s.customer_id = mem.customer_id\n",
        "  WHERE s.order_date >= '2021-01-01' AND s.order_date < '2021-01-31' AND (s.customer_id = 'A' OR s.customer_id = 'B'))\n",
        "GROUP BY customer_id;"
      ],
      "metadata": {
        "id": "vKY-I7cjk2Py",
        "colab": {
          "base_uri": "https://localhost:8080/",
          "height": 119
        },
        "outputId": "9147ef3d-d9b2-4db1-e6fb-a75626e94c83"
      },
      "execution_count": null,
      "outputs": [
        {
          "output_type": "stream",
          "name": "stdout",
          "text": [
            " * sqlite://\n",
            "Done.\n"
          ]
        },
        {
          "output_type": "execute_result",
          "data": {
            "text/plain": [
              "[('A', 1270), ('B', 720)]"
            ],
            "text/html": [
              "<table>\n",
              "    <thead>\n",
              "        <tr>\n",
              "            <th>customer_id</th>\n",
              "            <th>total_points</th>\n",
              "        </tr>\n",
              "    </thead>\n",
              "    <tbody>\n",
              "        <tr>\n",
              "            <td>A</td>\n",
              "            <td>1270</td>\n",
              "        </tr>\n",
              "        <tr>\n",
              "            <td>B</td>\n",
              "            <td>720</td>\n",
              "        </tr>\n",
              "    </tbody>\n",
              "</table>"
            ]
          },
          "metadata": {},
          "execution_count": 138
        }
      ]
    },
    {
      "cell_type": "code",
      "source": [],
      "metadata": {
        "id": "LZ5moJHqxC39"
      },
      "execution_count": null,
      "outputs": []
    }
  ]
}